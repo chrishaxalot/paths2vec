{
 "cells": [
  {
   "cell_type": "code",
   "execution_count": 7,
   "metadata": {},
   "outputs": [],
   "source": [
    "from ogb.graphproppred import GraphPropPredDataset"
   ]
  },
  {
   "cell_type": "code",
   "execution_count": 8,
   "metadata": {},
   "outputs": [],
   "source": [
    "datasets = [\n",
    "    \"ogbg-molhiv\",\n",
    "    \"ogbg-molpcba\",\n",
    "    \"ogbg-moltox21\",\n",
    "    \"ogbg-molbace\",\n",
    "    \"ogbg-molbbbp\",\n",
    "    \"ogbg-molclintox\",\n",
    "    \"ogbg-molmuv\",\n",
    "    \"ogbg-molsider\",\n",
    "    \"ogbg-moltoxcast\",\n",
    "    \"ogbg-molesol\",\n",
    "    \"ogbg-molfreesolv\",\n",
    "    \"ogbg-mollipo\",\n",
    "]"
   ]
  },
  {
   "cell_type": "code",
   "execution_count": 9,
   "metadata": {},
   "outputs": [
    {
     "name": "stdout",
     "output_type": "stream",
     "text": [
      "ogbg-molhiv, 41127 1 binary classification\n",
      "ogbg-molpcba, 437929 128 binary classification\n",
      "ogbg-moltox21, 7831 12 binary classification\n",
      "ogbg-molbace, 1513 1 binary classification\n",
      "ogbg-molbbbp, 2039 1 binary classification\n",
      "ogbg-molclintox, 1477 2 binary classification\n",
      "ogbg-molmuv, 93087 17 binary classification\n",
      "ogbg-molsider, 1427 27 binary classification\n",
      "ogbg-moltoxcast, 8576 617 binary classification\n",
      "ogbg-molesol, 1128 1 regression\n",
      "ogbg-molfreesolv, 642 1 regression\n",
      "ogbg-mollipo, 4200 1 regression\n"
     ]
    }
   ],
   "source": [
    "for dataset_name in datasets:\n",
    "    dataset = GraphPropPredDataset(name=dataset_name)\n",
    "    print(f'{dataset_name} {len(dataset)} {dataset.num_tasks} {dataset.task_type}')"
   ]
  },
  {
   "cell_type": "code",
   "execution_count": 11,
   "metadata": {},
   "outputs": [
    {
     "data": {
      "text/plain": [
       "num tasks                                                               27\n",
       "eval metric                                                         rocauc\n",
       "download_name                                                        sider\n",
       "version                                                                  1\n",
       "url                      http://snap.stanford.edu/ogb/data/graphproppre...\n",
       "add_inverse_edge                                                      True\n",
       "data type                                                              mol\n",
       "has_node_attr                                                         True\n",
       "has_edge_attr                                                         True\n",
       "task type                                            binary classification\n",
       "num classes                                                              2\n",
       "split                                                             scaffold\n",
       "additional node files                                                 None\n",
       "additional edge files                                                 None\n",
       "binary                                                               False\n",
       "Name: ogbg-molsider, dtype: object"
      ]
     },
     "execution_count": 11,
     "metadata": {},
     "output_type": "execute_result"
    }
   ],
   "source": [
    "dataset = GraphPropPredDataset(name=\"ogbg-molsider\")\n",
    "dataset.meta_info"
   ]
  }
 ],
 "metadata": {
  "kernelspec": {
   "display_name": "Python 3",
   "language": "python",
   "name": "python3"
  },
  "language_info": {
   "codemirror_mode": {
    "name": "ipython",
    "version": 3
   },
   "file_extension": ".py",
   "mimetype": "text/x-python",
   "name": "python",
   "nbconvert_exporter": "python",
   "pygments_lexer": "ipython3",
   "version": "3.9.13"
  },
  "orig_nbformat": 4
 },
 "nbformat": 4,
 "nbformat_minor": 2
}
