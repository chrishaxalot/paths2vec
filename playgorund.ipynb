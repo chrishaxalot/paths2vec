{
 "cells": [
  {
   "cell_type": "code",
   "execution_count": 80,
   "metadata": {},
   "outputs": [],
   "source": [
    "import pandas as pd\n",
    "from ogb.graphproppred import GraphPropPredDataset\n",
    "import numpy as np"
   ]
  },
  {
   "cell_type": "code",
   "execution_count": 81,
   "metadata": {},
   "outputs": [],
   "source": [
    "datasets = [\n",
    "    \"ogbg-molhiv\",\n",
    "    \"ogbg-molpcba\",\n",
    "    \"ogbg-moltox21\",\n",
    "    \"ogbg-molbace\",\n",
    "    \"ogbg-molbbbp\",\n",
    "    \"ogbg-molclintox\",\n",
    "    \"ogbg-molmuv\",\n",
    "    \"ogbg-molsider\",\n",
    "    \"ogbg-moltoxcast\",\n",
    "    \"ogbg-molesol\",\n",
    "    \"ogbg-molfreesolv\",\n",
    "    \"ogbg-mollipo\",\n",
    "    \"ogbg-molclintox\"\n",
    "]"
   ]
  },
  {
   "cell_type": "code",
   "execution_count": 82,
   "metadata": {},
   "outputs": [
    {
     "data": {
      "text/html": [
       "<div>\n",
       "<style scoped>\n",
       "    .dataframe tbody tr th:only-of-type {\n",
       "        vertical-align: middle;\n",
       "    }\n",
       "\n",
       "    .dataframe tbody tr th {\n",
       "        vertical-align: top;\n",
       "    }\n",
       "\n",
       "    .dataframe thead th {\n",
       "        text-align: right;\n",
       "    }\n",
       "</style>\n",
       "<table border=\"1\" class=\"dataframe\">\n",
       "  <thead>\n",
       "    <tr style=\"text-align: right;\">\n",
       "      <th></th>\n",
       "      <th>name</th>\n",
       "      <th>graphs</th>\n",
       "      <th>average_num_nodes</th>\n",
       "      <th>tasks</th>\n",
       "      <th>task type</th>\n",
       "      <th>dataset.eval_metric</th>\n",
       "      <th>max_fraction_positive</th>\n",
       "    </tr>\n",
       "  </thead>\n",
       "  <tbody>\n",
       "    <tr>\n",
       "      <th>0</th>\n",
       "      <td>ogbg-molhiv</td>\n",
       "      <td>41127</td>\n",
       "      <td>25.510322</td>\n",
       "      <td>1</td>\n",
       "      <td>binary classification</td>\n",
       "      <td>rocauc</td>\n",
       "      <td>0.035086</td>\n",
       "    </tr>\n",
       "    <tr>\n",
       "      <th>1</th>\n",
       "      <td>ogbg-molpcba</td>\n",
       "      <td>437929</td>\n",
       "      <td>25.970276</td>\n",
       "      <td>128</td>\n",
       "      <td>binary classification</td>\n",
       "      <td>ap</td>\n",
       "      <td>0.008432</td>\n",
       "    </tr>\n",
       "    <tr>\n",
       "      <th>2</th>\n",
       "      <td>ogbg-moltox21</td>\n",
       "      <td>7831</td>\n",
       "      <td>18.574767</td>\n",
       "      <td>12</td>\n",
       "      <td>binary classification</td>\n",
       "      <td>rocauc</td>\n",
       "      <td>0.06238</td>\n",
       "    </tr>\n",
       "    <tr>\n",
       "      <th>3</th>\n",
       "      <td>ogbg-molbace</td>\n",
       "      <td>1513</td>\n",
       "      <td>34.089227</td>\n",
       "      <td>1</td>\n",
       "      <td>binary classification</td>\n",
       "      <td>rocauc</td>\n",
       "      <td>0.456709</td>\n",
       "    </tr>\n",
       "    <tr>\n",
       "      <th>4</th>\n",
       "      <td>ogbg-molbbbp</td>\n",
       "      <td>2039</td>\n",
       "      <td>24.064738</td>\n",
       "      <td>1</td>\n",
       "      <td>binary classification</td>\n",
       "      <td>rocauc</td>\n",
       "      <td>0.765081</td>\n",
       "    </tr>\n",
       "    <tr>\n",
       "      <th>5</th>\n",
       "      <td>ogbg-molclintox</td>\n",
       "      <td>1477</td>\n",
       "      <td>26.159106</td>\n",
       "      <td>2</td>\n",
       "      <td>binary classification</td>\n",
       "      <td>rocauc</td>\n",
       "      <td>0.506093</td>\n",
       "    </tr>\n",
       "    <tr>\n",
       "      <th>6</th>\n",
       "      <td>ogbg-molmuv</td>\n",
       "      <td>93087</td>\n",
       "      <td>24.233738</td>\n",
       "      <td>17</td>\n",
       "      <td>binary classification</td>\n",
       "      <td>ap</td>\n",
       "      <td>0.000309</td>\n",
       "    </tr>\n",
       "    <tr>\n",
       "      <th>7</th>\n",
       "      <td>ogbg-molsider</td>\n",
       "      <td>1427</td>\n",
       "      <td>33.641205</td>\n",
       "      <td>27</td>\n",
       "      <td>binary classification</td>\n",
       "      <td>rocauc</td>\n",
       "      <td>0.567572</td>\n",
       "    </tr>\n",
       "    <tr>\n",
       "      <th>8</th>\n",
       "      <td>ogbg-moltoxcast</td>\n",
       "      <td>8576</td>\n",
       "      <td>18.783582</td>\n",
       "      <td>617</td>\n",
       "      <td>binary classification</td>\n",
       "      <td>rocauc</td>\n",
       "      <td>0.023935</td>\n",
       "    </tr>\n",
       "    <tr>\n",
       "      <th>9</th>\n",
       "      <td>ogbg-molesol</td>\n",
       "      <td>1128</td>\n",
       "      <td>13.289894</td>\n",
       "      <td>1</td>\n",
       "      <td>regression</td>\n",
       "      <td>rmse</td>\n",
       "      <td>n.a.</td>\n",
       "    </tr>\n",
       "    <tr>\n",
       "      <th>10</th>\n",
       "      <td>ogbg-molfreesolv</td>\n",
       "      <td>642</td>\n",
       "      <td>8.722741</td>\n",
       "      <td>1</td>\n",
       "      <td>regression</td>\n",
       "      <td>rmse</td>\n",
       "      <td>n.a.</td>\n",
       "    </tr>\n",
       "    <tr>\n",
       "      <th>11</th>\n",
       "      <td>ogbg-mollipo</td>\n",
       "      <td>4200</td>\n",
       "      <td>27.040000</td>\n",
       "      <td>1</td>\n",
       "      <td>regression</td>\n",
       "      <td>rmse</td>\n",
       "      <td>n.a.</td>\n",
       "    </tr>\n",
       "    <tr>\n",
       "      <th>12</th>\n",
       "      <td>ogbg-molclintox</td>\n",
       "      <td>1477</td>\n",
       "      <td>26.159106</td>\n",
       "      <td>2</td>\n",
       "      <td>binary classification</td>\n",
       "      <td>rocauc</td>\n",
       "      <td>0.506093</td>\n",
       "    </tr>\n",
       "  </tbody>\n",
       "</table>\n",
       "</div>"
      ],
      "text/plain": [
       "                name  graphs  average_num_nodes  tasks              task type  \\\n",
       "0        ogbg-molhiv   41127          25.510322      1  binary classification   \n",
       "1       ogbg-molpcba  437929          25.970276    128  binary classification   \n",
       "2      ogbg-moltox21    7831          18.574767     12  binary classification   \n",
       "3       ogbg-molbace    1513          34.089227      1  binary classification   \n",
       "4       ogbg-molbbbp    2039          24.064738      1  binary classification   \n",
       "5    ogbg-molclintox    1477          26.159106      2  binary classification   \n",
       "6        ogbg-molmuv   93087          24.233738     17  binary classification   \n",
       "7      ogbg-molsider    1427          33.641205     27  binary classification   \n",
       "8    ogbg-moltoxcast    8576          18.783582    617  binary classification   \n",
       "9       ogbg-molesol    1128          13.289894      1             regression   \n",
       "10  ogbg-molfreesolv     642           8.722741      1             regression   \n",
       "11      ogbg-mollipo    4200          27.040000      1             regression   \n",
       "12   ogbg-molclintox    1477          26.159106      2  binary classification   \n",
       "\n",
       "   dataset.eval_metric max_fraction_positive  \n",
       "0               rocauc              0.035086  \n",
       "1                   ap              0.008432  \n",
       "2               rocauc               0.06238  \n",
       "3               rocauc              0.456709  \n",
       "4               rocauc              0.765081  \n",
       "5               rocauc              0.506093  \n",
       "6                   ap              0.000309  \n",
       "7               rocauc              0.567572  \n",
       "8               rocauc              0.023935  \n",
       "9                 rmse                  n.a.  \n",
       "10                rmse                  n.a.  \n",
       "11                rmse                  n.a.  \n",
       "12              rocauc              0.506093  "
      ]
     },
     "execution_count": 82,
     "metadata": {},
     "output_type": "execute_result"
    }
   ],
   "source": [
    "l = []\n",
    "\n",
    "for dataset_name in datasets:\n",
    "    dataset = GraphPropPredDataset(name=dataset_name)\n",
    "\n",
    "    fractions = []\n",
    "    for i, task in enumerate(np.transpose(dataset.labels)):\n",
    "        fraction_positive = np.count_nonzero(task == 1) / len(task)\n",
    "        fractions.append(fraction_positive)\n",
    "    max_fraction_positive = np.mean(fractions)\n",
    "    if dataset.task_type == \"regression\":\n",
    "        max_fraction_positive = 'n.a.'\n",
    "\n",
    "    average_num_nodes = np.mean([graph['num_nodes'] for graph in dataset.graphs])\n",
    "\n",
    "\n",
    "\n",
    "    l.append([dataset_name, len(dataset), average_num_nodes, dataset.num_tasks, dataset.task_type, dataset.eval_metric, max_fraction_positive])\n",
    "    \n",
    "df = pd.DataFrame(l, columns=['name', 'graphs', 'average_num_nodes', 'tasks', 'task type', 'dataset.eval_metric', 'max_fraction_positive'])\n",
    "#df = df.sort_values(by=\"graphs\")\n",
    "\n",
    "df"
   ]
  },
  {
   "cell_type": "code",
   "execution_count": 83,
   "metadata": {},
   "outputs": [
    {
     "data": {
      "text/plain": [
       "55.76980365605958"
      ]
     },
     "execution_count": 83,
     "metadata": {},
     "output_type": "execute_result"
    }
   ],
   "source": [
    "np.mean([len(graph['edge_feat']) for graph in dataset.graphs])"
   ]
  },
  {
   "cell_type": "code",
   "execution_count": 84,
   "metadata": {},
   "outputs": [
    {
     "data": {
      "text/plain": [
       "dict_keys(['train', 'valid', 'test'])"
      ]
     },
     "execution_count": 84,
     "metadata": {},
     "output_type": "execute_result"
    }
   ],
   "source": [
    "split_idx = dataset.get_idx_split()\n",
    "\n",
    "split_idx.keys()"
   ]
  },
  {
   "cell_type": "code",
   "execution_count": 85,
   "metadata": {},
   "outputs": [
    {
     "data": {
      "text/plain": [
       "num tasks                                                                1\n",
       "eval metric                                                         rocauc\n",
       "download_name                                                         bace\n",
       "version                                                                  1\n",
       "url                      http://snap.stanford.edu/ogb/data/graphproppre...\n",
       "add_inverse_edge                                                      True\n",
       "data type                                                              mol\n",
       "has_node_attr                                                         True\n",
       "has_edge_attr                                                         True\n",
       "task type                                            binary classification\n",
       "num classes                                                              2\n",
       "split                                                             scaffold\n",
       "additional node files                                                 None\n",
       "additional edge files                                                 None\n",
       "binary                                                               False\n",
       "Name: ogbg-molbace, dtype: object"
      ]
     },
     "execution_count": 85,
     "metadata": {},
     "output_type": "execute_result"
    }
   ],
   "source": [
    "dataset = GraphPropPredDataset(name=\"ogbg-molbace\")\n",
    "dataset.meta_info"
   ]
  },
  {
   "cell_type": "code",
   "execution_count": 86,
   "metadata": {},
   "outputs": [
    {
     "data": {
      "text/plain": [
       "list"
      ]
     },
     "execution_count": 86,
     "metadata": {},
     "output_type": "execute_result"
    }
   ],
   "source": [
    "type(dataset.graphs)"
   ]
  },
  {
   "cell_type": "code",
   "execution_count": 87,
   "metadata": {},
   "outputs": [
    {
     "data": {
      "text/plain": [
       "[1, 2, 5]"
      ]
     },
     "execution_count": 87,
     "metadata": {},
     "output_type": "execute_result"
    }
   ],
   "source": [
    "l = [2, 5, 1]\n",
    "l.sort()\n",
    "l"
   ]
  },
  {
   "cell_type": "code",
   "execution_count": 88,
   "metadata": {},
   "outputs": [
    {
     "name": "stdout",
     "output_type": "stream",
     "text": [
      "1513\n"
     ]
    }
   ],
   "source": [
    "print(len(dataset.graphs))"
   ]
  },
  {
   "cell_type": "code",
   "execution_count": 89,
   "metadata": {},
   "outputs": [
    {
     "name": "stdout",
     "output_type": "stream",
     "text": [
      "1.0 1.08E-05\n"
     ]
    }
   ],
   "source": [
    "from scipy.stats import kstest\n",
    "\n",
    "ogbg_molfreesolv_paths2vec = [1.130523029601864, 1.1180415455366692, 1.11713770294816, 1.1438490144237519, 1.1162019156280185, 1.1414678282002018, 1.1365789984149048, 1.1242052746242168, 1.1293786877117118, 1.1098816017419109]\n",
    "ogbg_molfreesolv_random  = [1.241876450957025, 1.2538404116825306, 1.2333361290743448, 1.2264159029169768, 1.22282195981142, 1.2522733034224318, 1.2408982322712339, 1.2591096012683938, 1.2388358095814085, 1.2596987597811033]\n",
    "\n",
    "result = kstest(ogbg_molfreesolv_paths2vec, ogbg_molfreesolv_random)\n",
    "\n",
    "print(f'{result.statistic} {result.pvalue:.2E}')"
   ]
  }
 ],
 "metadata": {
  "kernelspec": {
   "display_name": "Python 3",
   "language": "python",
   "name": "python3"
  },
  "language_info": {
   "codemirror_mode": {
    "name": "ipython",
    "version": 3
   },
   "file_extension": ".py",
   "mimetype": "text/x-python",
   "name": "python",
   "nbconvert_exporter": "python",
   "pygments_lexer": "ipython3",
   "version": "3.9.13"
  },
  "orig_nbformat": 4
 },
 "nbformat": 4,
 "nbformat_minor": 2
}
